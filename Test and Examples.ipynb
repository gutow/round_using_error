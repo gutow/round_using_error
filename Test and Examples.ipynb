{
 "cells": [
  {
   "cell_type": "markdown",
   "id": "98f47f9e",
   "metadata": {},
   "source": [
    "[Introduction](#round_using_error-examples) | [Initialization](#Initialization) | [Usage](#Usage) | [Typeset Expressions](#Pretty-Display-in-Jupyter) | [Adjust Significant Figures on Error](#Adjusting-Significant-Digits-on-Errors)"
   ]
  },
  {
   "cell_type": "markdown",
   "id": "05995587",
   "metadata": {},
   "source": [
    "## round_using_error examples\n",
    "This module converts floating point values combined with their errors into text outputs of the form $value\\pm error$ rounded appropriatedly for the size of the errors. By default errors are rounded to two significant figures. The module is opinionated in that it displays numbers < 0.1  or > 1000 in scientific notation. Numbers between those two value are displayed as decimals."
   ]
  },
  {
   "cell_type": "markdown",
   "id": "bedbcd66",
   "metadata": {},
   "source": [
    "### Initialization\n",
    "You must have the python file `round_using_error.py` in the current working directory of the package installed in your current python environment. Initialize using the following commands."
   ]
  },
  {
   "cell_type": "code",
   "execution_count": 1,
   "id": "82fb758e",
   "metadata": {},
   "outputs": [],
   "source": [
    "from round_using_error import * # Imports the rounding tools\n",
    "from IPython.display import Math # Imports the Jupyter tool for displaying typeset math."
   ]
  },
  {
   "cell_type": "markdown",
   "id": "d95fee9c",
   "metadata": {},
   "source": [
    "### Usage\n",
    "The package returns the rounded expression in three different forms:\n",
    "* a tuple of strings `(value, error, power_of_ten)`;\n",
    "* a text string `value +/- error`; \n",
    "* a latex string `value \\pm error`.\n",
    "\n",
    "Examples:"
   ]
  },
  {
   "cell_type": "code",
   "execution_count": 4,
   "id": "83adb6b6",
   "metadata": {},
   "outputs": [
    {
     "data": {
      "text/plain": [
       "('987.30', '0.23', '')"
      ]
     },
     "execution_count": 4,
     "metadata": {},
     "output_type": "execute_result"
    }
   ],
   "source": [
    "# tuple output\n",
    "rndwitherr(987.3, 0.23)"
   ]
  },
  {
   "cell_type": "code",
   "execution_count": 5,
   "id": "9bd25fb4",
   "metadata": {},
   "outputs": [
    {
     "data": {
      "text/plain": [
       "'987.30 +/- 0.23'"
      ]
     },
     "execution_count": 5,
     "metadata": {},
     "output_type": "execute_result"
    }
   ],
   "source": [
    "# text output\n",
    "text_rndwitherr(987.3, 0.23)"
   ]
  },
  {
   "cell_type": "code",
   "execution_count": 6,
   "id": "fe560222",
   "metadata": {},
   "outputs": [
    {
     "data": {
      "text/plain": [
       "'987.30\\\\pm0.23'"
      ]
     },
     "execution_count": 6,
     "metadata": {},
     "output_type": "execute_result"
    }
   ],
   "source": [
    "# latex output\n",
    "latex_rndwitherr(987.3, 0.23)"
   ]
  },
  {
   "cell_type": "code",
   "execution_count": 7,
   "id": "05fb7597",
   "metadata": {},
   "outputs": [
    {
     "data": {
      "text/plain": [
       "('1.98730', '0.00023', '3')"
      ]
     },
     "execution_count": 7,
     "metadata": {},
     "output_type": "execute_result"
    }
   ],
   "source": [
    "# tuple output\n",
    "rndwitherr(1987.3, 0.23)"
   ]
  },
  {
   "cell_type": "code",
   "execution_count": 8,
   "id": "5b611b90",
   "metadata": {},
   "outputs": [
    {
     "data": {
      "text/plain": [
       "'(1.98730 +/- 0.00023) X 10^3'"
      ]
     },
     "execution_count": 8,
     "metadata": {},
     "output_type": "execute_result"
    }
   ],
   "source": [
    "# text output\n",
    "text_rndwitherr(1987.3, 0.23)"
   ]
  },
  {
   "cell_type": "code",
   "execution_count": 9,
   "id": "3c04591d",
   "metadata": {},
   "outputs": [
    {
     "data": {
      "text/plain": [
       "'(1.98730\\\\pm0.00023)\\\\times 10^3'"
      ]
     },
     "execution_count": 9,
     "metadata": {},
     "output_type": "execute_result"
    }
   ],
   "source": [
    "# latex output\n",
    "latex_rndwitherr(1987.3, 0.23)"
   ]
  },
  {
   "cell_type": "markdown",
   "id": "8a2f9d33",
   "metadata": {},
   "source": [
    "### Pretty Display in Jupyter"
   ]
  },
  {
   "cell_type": "code",
   "execution_count": 2,
   "id": "659fab11",
   "metadata": {},
   "outputs": [
    {
     "data": {
      "text/latex": [
       "$\\displaystyle 987.30\\pm0.23$"
      ],
      "text/plain": [
       "<IPython.core.display.Math object>"
      ]
     },
     "execution_count": 2,
     "metadata": {},
     "output_type": "execute_result"
    }
   ],
   "source": [
    "Math(latex_rndwitherr(987.3, 0.23))"
   ]
  },
  {
   "cell_type": "code",
   "execution_count": 3,
   "id": "06364c71",
   "metadata": {},
   "outputs": [
    {
     "data": {
      "text/latex": [
       "$\\displaystyle (1.98730\\pm0.00023)\\times 10^3$"
      ],
      "text/plain": [
       "<IPython.core.display.Math object>"
      ]
     },
     "execution_count": 3,
     "metadata": {},
     "output_type": "execute_result"
    }
   ],
   "source": [
    "Math(latex_rndwitherr(1987.3, 0.23))"
   ]
  },
  {
   "cell_type": "markdown",
   "id": "19c71890",
   "metadata": {},
   "source": [
    "### Adjusting Significant Digits on Errors\n",
    "The values are always round to match the least significant digit of the error. By default errors are rounded to two significant digits. The number of significant figures on the error is adjusted with by setting `errdig = # of digits desired`."
   ]
  },
  {
   "cell_type": "code",
   "execution_count": 10,
   "id": "5fa81174",
   "metadata": {},
   "outputs": [
    {
     "data": {
      "text/latex": [
       "$\\displaystyle (1.9873\\pm0.0002)\\times 10^3$"
      ],
      "text/plain": [
       "<IPython.core.display.Math object>"
      ]
     },
     "execution_count": 10,
     "metadata": {},
     "output_type": "execute_result"
    }
   ],
   "source": [
    "Math(latex_rndwitherr(1987.3, 0.23, errdig = 1))"
   ]
  },
  {
   "cell_type": "code",
   "execution_count": 11,
   "id": "2c289c81",
   "metadata": {},
   "outputs": [
    {
     "data": {
      "text/latex": [
       "$\\displaystyle (1.987300\\pm0.000230)\\times 10^3$"
      ],
      "text/plain": [
       "<IPython.core.display.Math object>"
      ]
     },
     "execution_count": 11,
     "metadata": {},
     "output_type": "execute_result"
    }
   ],
   "source": [
    "Math(latex_rndwitherr(1987.3, 0.23, errdig = 3))"
   ]
  },
  {
   "cell_type": "code",
   "execution_count": null,
   "id": "b2aa80a9",
   "metadata": {},
   "outputs": [],
   "source": []
  }
 ],
 "metadata": {
  "kernelspec": {
   "display_name": "Python 3",
   "language": "python",
   "name": "python3"
  },
  "language_info": {
   "codemirror_mode": {
    "name": "ipython",
    "version": 3
   },
   "file_extension": ".py",
   "mimetype": "text/x-python",
   "name": "python",
   "nbconvert_exporter": "python",
   "pygments_lexer": "ipython3",
   "version": "3.8.10"
  }
 },
 "nbformat": 4,
 "nbformat_minor": 5
}
